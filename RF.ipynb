{
 "cells": [
  {
   "cell_type": "code",
   "execution_count": 2,
   "metadata": {},
   "outputs": [],
   "source": [
    "import pandas as pd\n",
    "import numpy as np\n",
    "import math\n",
    "from sklearn.ensemble import RandomForestClassifier\n",
    "from sklearn.model_selection import train_test_split\n",
    "import random"
   ]
  },
  {
   "cell_type": "markdown",
   "metadata": {},
   "source": [
    "# 数据读入"
   ]
  },
  {
   "cell_type": "code",
   "execution_count": 3,
   "metadata": {},
   "outputs": [],
   "source": [
    "data = pd.read_csv(\"/Users/cys/Downloads/RandomForest/sonar-all-data.csv\",header=None);\n",
    "data.head(10)\n",
    "train_data , test_data = train_test_split(data,test_size = 0.2 ,random_state = 46)"
   ]
  },
  {
   "cell_type": "markdown",
   "metadata": {},
   "source": [
    "# 随机森林代码"
   ]
  },
  {
   "cell_type": "code",
   "execution_count": 10,
   "metadata": {},
   "outputs": [],
   "source": [
    "def split(dataSet,feat,value):\n",
    "    return dataSet[dataSet[feat] <= value],dataSet[dataSet[feat] > value]\n",
    "\n",
    "def geni(dataSet):\n",
    "    H = 1\n",
    "    num = len(dataSet)\n",
    "    for i in dataSet.iloc[:,-1].value_counts():\n",
    "        p = i/num\n",
    "        H = H -  p*p\n",
    "    return H\n",
    "\n",
    "def getClass(dataSet):\n",
    "    return dataSet.iloc[:,-1].value_counts().index[0]\n",
    "    \n",
    "def split_best(dataSet,featList,C=2):\n",
    "    num = len(dataSet)\n",
    "    if(num <= C):\n",
    "        return None,getClass(dataSet)#结点最小\n",
    "    if(len(set(dataSet.iloc[:,-1].values)) == 1):\n",
    "        return None,getClass(dataSet)\n",
    "    \n",
    "    \n",
    "    best_feat = - 1\n",
    "    best_H = math.inf\n",
    "    best_value = -1\n",
    "    \n",
    "    for feat in featList:\n",
    "        value_list = set(dataSet[feat].values)\n",
    "        for value in value_list:\n",
    "            data_1,data_2 = split(dataSet,feat,value)\n",
    "            num1 = len(data_1)\n",
    "            num2 = len(data_2)\n",
    "            if(num1 < 1 or num2 < 1):\n",
    "                continue\n",
    "            H = num1/num*geni(data_1)+num2/num*geni(data_2)\n",
    "            if(H < best_H):\n",
    "                best_H = H\n",
    "                best_feat = feat\n",
    "                best_value = value\n",
    "    return best_feat,best_value\n",
    "\n",
    "\n",
    "def CART(dataSet,featList,C=2):\n",
    "    feat,value = split_best(dataSet,featList,C)\n",
    "    if(feat == None):\n",
    "        return value\n",
    "    tree = {}\n",
    "    tree['feat'] = feat\n",
    "    tree['value'] = value\n",
    "    data_1,data_2 = split(dataSet,feat,value)\n",
    "    tree['left'] = CART(data_1,featList,C)\n",
    "    tree['right'] = CART(data_2,featList,C)\n",
    "    return tree\n",
    "\n",
    "def predict(tree,data):\n",
    "    T = tree\n",
    "    while(type(T) == dict):\n",
    "        if(data.iloc[0,T['feat']] <= T['value']):\n",
    "            T = T['left']\n",
    "        else:\n",
    "            T = T['right']\n",
    "    return T\n",
    "\n",
    "def bootstrap(dataSet,N):\n",
    "    num = len(dataSet)\n",
    "    l = []\n",
    "    for i in range(N):\n",
    "        l.append(random.randrange(0,num))\n",
    "    return dataSet.iloc[l]\n",
    "\n",
    "def randomfeatList(featList,M):\n",
    "    num = len(featList)\n",
    "    f = []\n",
    "    for i in range(M):\n",
    "        f.append(random.randrange(0,num))\n",
    "    return f\n",
    "\n",
    "def RF(dataSet,N=10,M=10,C=2,treeNum=10):\n",
    "    num = len(dataSet)\n",
    "    f_num = len(list(dataSet))\n",
    "    f_list = [x for x in range(f_num-1)]\n",
    "    Rtree = []\n",
    "    for i in range(treeNum):\n",
    "        featureList = randomfeatList(f_list,M)\n",
    "        dataSet_sub = bootstrap(dataSet,N)\n",
    "        tree = CART(dataSet_sub,featureList,C)\n",
    "        print(i)\n",
    "        Rtree.append(tree)\n",
    "    return Rtree\n",
    "\n",
    "def RFpredict(Rtree,data):\n",
    "    l = []\n",
    "    for tree in Rtree:\n",
    "        l.append(predict(tree,data))\n",
    "    base_count = 0\n",
    "    for i in l:\n",
    "        if(l.count(i) > base_count):\n",
    "            base_count = l.count(i)\n",
    "            ans = i\n",
    "    return ans\n",
    "    \n",
    "\n",
    "def accuracy(dataSet,Rtree):\n",
    "    num = len(dataSet)\n",
    "    count = 0;\n",
    "    for i in range(num):\n",
    "        ans = RFpredict(Rtree,dataSet.iloc[[i]])\n",
    "        if(ans == dataSet.iloc[i,-1]):\n",
    "            count = count + 1\n",
    "    print(count/num)"
   ]
  },
  {
   "cell_type": "code",
   "execution_count": 11,
   "metadata": {},
   "outputs": [
    {
     "name": "stdout",
     "output_type": "stream",
     "text": [
      "0\n",
      "1\n",
      "2\n",
      "3\n",
      "4\n",
      "5\n",
      "6\n",
      "7\n",
      "8\n",
      "9\n",
      "10\n",
      "11\n",
      "12\n",
      "13\n",
      "14\n",
      "15\n",
      "16\n",
      "17\n",
      "18\n",
      "19\n",
      "20\n",
      "21\n",
      "22\n",
      "23\n",
      "24\n",
      "25\n",
      "26\n",
      "27\n",
      "28\n",
      "29\n",
      "30\n",
      "31\n",
      "32\n",
      "33\n",
      "34\n",
      "35\n",
      "36\n",
      "37\n",
      "38\n",
      "39\n",
      "40\n",
      "41\n",
      "42\n",
      "43\n",
      "44\n",
      "45\n",
      "46\n",
      "47\n",
      "48\n",
      "49\n",
      "50\n",
      "51\n",
      "52\n",
      "53\n",
      "54\n",
      "55\n",
      "56\n",
      "57\n",
      "58\n",
      "59\n",
      "60\n",
      "61\n",
      "62\n",
      "63\n",
      "64\n",
      "65\n",
      "66\n",
      "67\n",
      "68\n",
      "69\n",
      "70\n",
      "71\n",
      "72\n",
      "73\n",
      "74\n",
      "75\n",
      "76\n",
      "77\n",
      "78\n",
      "79\n",
      "80\n",
      "81\n",
      "82\n",
      "83\n",
      "84\n",
      "85\n",
      "86\n",
      "87\n",
      "88\n",
      "89\n",
      "90\n",
      "91\n",
      "92\n",
      "93\n",
      "94\n",
      "95\n",
      "96\n",
      "97\n",
      "98\n",
      "99\n",
      "100\n",
      "101\n",
      "102\n",
      "103\n",
      "104\n",
      "105\n",
      "106\n",
      "107\n",
      "108\n",
      "109\n",
      "110\n",
      "111\n",
      "112\n",
      "113\n",
      "114\n",
      "115\n",
      "116\n",
      "117\n",
      "118\n",
      "119\n",
      "120\n",
      "121\n",
      "122\n",
      "123\n",
      "124\n",
      "125\n",
      "126\n",
      "127\n",
      "128\n"
     ]
    }
   ],
   "source": [
    "Rtree = RF(train_data,208,10,2,129)"
   ]
  },
  {
   "cell_type": "code",
   "execution_count": 12,
   "metadata": {},
   "outputs": [
    {
     "name": "stdout",
     "output_type": "stream",
     "text": [
      "0.8571428571428571\n"
     ]
    }
   ],
   "source": [
    "accuracy(test_data,Rtree)"
   ]
  },
  {
   "cell_type": "markdown",
   "metadata": {},
   "source": [
    "# sklearn 实现"
   ]
  },
  {
   "cell_type": "code",
   "execution_count": 5,
   "metadata": {},
   "outputs": [
    {
     "data": {
      "text/plain": [
       "RandomForestClassifier(bootstrap=True, class_weight=None, criterion='gini',\n",
       "            max_depth=None, max_features=10, max_leaf_nodes=None,\n",
       "            min_impurity_decrease=0.0, min_impurity_split=None,\n",
       "            min_samples_leaf=1, min_samples_split=2,\n",
       "            min_weight_fraction_leaf=0.0, n_estimators=9000, n_jobs=None,\n",
       "            oob_score=False, random_state=None, verbose=0,\n",
       "            warm_start=False)"
      ]
     },
     "execution_count": 5,
     "metadata": {},
     "output_type": "execute_result"
    }
   ],
   "source": [
    "RandomForestClassifier(n_estimators=9000,max_features=10)"
   ]
  },
  {
   "cell_type": "code",
   "execution_count": 7,
   "metadata": {},
   "outputs": [
    {
     "name": "stdout",
     "output_type": "stream",
     "text": [
      "0.9523809523809523\n"
     ]
    }
   ],
   "source": [
    "rf = RandomForestClassifier(n_estimators=9000,max_features=10)\n",
    "rf.fit(train_data.iloc[:,:-1],train_data.iloc[:,-1])\n",
    "count = 0\n",
    "num = len(test_data)\n",
    "i = 0\n",
    "for ans in rf.predict(test_data.iloc[:,:-1]):\n",
    "    if(ans == test_data.iloc[i,-1]):\n",
    "        count = count + 1\n",
    "    i = i + 1\n",
    "print(count/num)"
   ]
  },
  {
   "attachments": {},
   "cell_type": "markdown",
   "metadata": {},
   "source": [
    "# **permutation test:**   \n",
    "&nbsp;&nbsp;&nbsp;&nbsp;~~importance(i) = performance(D) - performance(D^p)~~   \n",
    "&nbsp;&nbsp;&nbsp;&nbsp;importance(i) = Eoob(G) - Eoob(G^p)   \n",
    "&nbsp;&nbsp;&nbsp;&nbsp;importance(i) = Eoob(G) - Eoob^p(G)   \n",
    "&nbsp;&nbsp;&nbsp;&nbsp; *为了特征选择*\n",
    "\n",
    "## 还可以作出类似large-margin结果"
   ]
  },
  {
   "cell_type": "code",
   "execution_count": 17,
   "metadata": {},
   "outputs": [
    {
     "data": {
      "text/plain": [
       "Float64Index([0.0509, 0.0378, 0.0215, 0.0186, 0.0279, 0.0421, 0.0308, 0.0213,\n",
       "              0.0453, 0.0222,\n",
       "              ...\n",
       "              0.0216, 0.0104, 0.0353, 0.0627, 0.0019, 0.0375, 0.0321, 0.0808,\n",
       "              0.0281, 0.0902],\n",
       "             dtype='float64', length=182)"
      ]
     },
     "execution_count": 17,
     "metadata": {},
     "output_type": "execute_result"
    }
   ],
   "source": [
    "data[1].value_counts().keys()"
   ]
  },
  {
   "cell_type": "code",
   "execution_count": null,
   "metadata": {},
   "outputs": [],
   "source": []
  }
 ],
 "metadata": {
  "kernelspec": {
   "display_name": "Python 3",
   "language": "python",
   "name": "python3"
  },
  "language_info": {
   "codemirror_mode": {
    "name": "ipython",
    "version": 3
   },
   "file_extension": ".py",
   "mimetype": "text/x-python",
   "name": "python",
   "nbconvert_exporter": "python",
   "pygments_lexer": "ipython3",
   "version": "3.7.1"
  }
 },
 "nbformat": 4,
 "nbformat_minor": 2
}
